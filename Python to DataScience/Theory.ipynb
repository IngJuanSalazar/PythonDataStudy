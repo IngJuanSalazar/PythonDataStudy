{
 "cells": [
  {
   "cell_type": "markdown",
   "metadata": {},
   "source": [
    "Importar Librerias Necesarias"
   ]
  },
  {
   "cell_type": "code",
   "execution_count": null,
   "metadata": {},
   "outputs": [],
   "source": [
    "import pandas as pd\n",
    "from ydata_profiling import ProfileReport\n",
    "from matplotlib import DateFormatter\n",
    "import numpy as np\n",
    "import matplotlib.pyplot as plt\n"
   ]
  },
  {
   "cell_type": "markdown",
   "metadata": {},
   "source": [
    "Obtener datos del CSV o Json y convertirlos en dataFrame de Pandas"
   ]
  },
  {
   "cell_type": "code",
   "execution_count": null,
   "metadata": {},
   "outputs": [],
   "source": [
    "#leer archivo desde csv\n",
    "ruta = 'Kaggle_Online_Retail.csv'\n",
    "df = pd.read_csv(ruta, encoding='latin1')\n",
    "df = pd.DataFrame(df)\n",
    "\n",
    "#leer archivo desde json\n",
    "ruta = 'Kaggle_Online_Retail.json'\n",
    "dfJson = pd.read_json(ruta)\n",
    "dfJson = pd.DataFrame(df)"
   ]
  },
  {
   "cell_type": "markdown",
   "metadata": {},
   "source": [
    "Realizar un profiling de los datos con ydata_profiling y exportarlo a un archivo HTML nos proporciona una visión clara de la calidad de los datos, detectando valores nulos, vacíos y la diversidad de los mismos. Esto facilita el proceso de limpieza y manipulación de los datos para su posterior análisis, se podria realizar manualmente cada uno de estos datos pero la libreria nos permitira reducir trabajo"
   ]
  },
  {
   "cell_type": "code",
   "execution_count": null,
   "metadata": {},
   "outputs": [],
   "source": [
    "profile = ProfileReport(df, title='Pandas Profiling Report', explorative=True)\n",
    "profile.to_file(\"KaggleReport.html\")"
   ]
  },
  {
   "cell_type": "markdown",
   "metadata": {},
   "source": [
    "**MANIPULACION DE DATA**"
   ]
  },
  {
   "cell_type": "markdown",
   "metadata": {},
   "source": [
    "Obtener informacion de la Data"
   ]
  },
  {
   "cell_type": "code",
   "execution_count": null,
   "metadata": {},
   "outputs": [],
   "source": [
    "#Obtener una muestra de la Data\n",
    "muestra = df.head()\n",
    "#Obtener los nombres columnas de el dataframe\n",
    "columns = df.columns\n",
    "#obtener numero de filas y columnas\n",
    "num_rows, num_columns = df.shape\n",
    "#Obtener la descripcion del dataframe solamente para las columnas numericas, obteniendo datos como la media, desviacion estandar, minimo, maximo, etc.\n",
    "descripcion = df.describe()\n",
    "#obtener informacion de la data como el tipo de dato de cada columna, cuantos valores no nulos hay, etc.\n",
    "informacion = df.info()"
   ]
  },
  {
   "cell_type": "markdown",
   "metadata": {},
   "source": [
    "Crear SubDatas mediante Loc e Iloc"
   ]
  },
  {
   "cell_type": "code",
   "execution_count": null,
   "metadata": {},
   "outputs": [],
   "source": [
    "#Obtener un fragmento de la data de la fila 0 a la 10 y de la columna 0 a la 5, iloc utiliza los indices para seleccionar\n",
    "fragmento = df.iloc[:10,:5]\n",
    "#obtener los datos de las columna quantity\n",
    "quantityPrice = df.loc[:,['Quantity','UnitPrice']]"
   ]
  },
  {
   "cell_type": "markdown",
   "metadata": {},
   "source": [
    "Limpieza de Data"
   ]
  },
  {
   "cell_type": "code",
   "execution_count": null,
   "metadata": {},
   "outputs": [],
   "source": [
    "#obtener conteo de datos faltantes por columna\n",
    "missingDataCount = df.isna().sum()\n",
    "#Eliminar filas con datos faltantes\n",
    "df = df.dropna()\n",
    "#Eliminar columnas con datos faltantes\n",
    "df = df.dropna(axis=1)\n",
    "# Eliminar solo las filas en las que todos los valores son nulos\n",
    "df = df.dropna(how='all')\n",
    "#llenar los valores faltantes con 0\n",
    "df = df.fillna(0)\n",
    "#rellenar los valores faltantes con la media de la columna\n",
    "df = df['Quantity'].fillna(df['Quantity'].mean())\n",
    "#rellenar los valores faltantes con el valor anterior\n",
    "df = df.fillna(method='ffill')\n",
    "#rellenar los valores faltantes con el valor siguiente\n",
    "df = df.fillna(method='bfill')"
   ]
  },
  {
   "cell_type": "markdown",
   "metadata": {},
   "source": [
    "Manipulacion de Data"
   ]
  },
  {
   "cell_type": "code",
   "execution_count": null,
   "metadata": {},
   "outputs": [],
   "source": [
    "#Crear una nueva columna \n",
    "df['TotalPrice'] = df['Quantity'] * df['UnitPrice']\n",
    "#Crear columna indica si valor es mayor que 10\n",
    "df['QuantityGreaterThan10'] = np.where(df['Quantity'] > 10, True, False)\n",
    "#Cambiar invoiceDate a tipo fecha tambien se puede cambiar a diferentes datos con to_numeric, to_string, etc.\n",
    "df['InvoiceDate'] = pd.to_datetime(df['InvoiceDate'])\n",
    "#crear una columna y aplicarle un porcentaje de descuento al precio unitario\n",
    "df['DiscountedPrice'] = df['UnitPrice'].apply(lambda x: x * 0.9)\n",
    "#Crear una columna basada en una funcion\n",
    "def applyDiscount(price):\n",
    "    return price * 0.9\n",
    "df['DiscountedPrice2'] = df['UnitPrice'].apply(applyDiscount)"
   ]
  },
  {
   "cell_type": "markdown",
   "metadata": {},
   "source": [
    "Group By Pandas"
   ]
  },
  {
   "cell_type": "code",
   "execution_count": null,
   "metadata": {},
   "outputs": [],
   "source": [
    "#Obtener la cantidad de ventas por Pais\n",
    "country_count = df['Country'].value_counts()\n",
    "#suma de ventas por pais\n",
    "countrSales = df.groupby('Country')['Quantity'].sum()\n",
    "#Obtener la cantidad de ventas por pais \n",
    "def totalVenta(group):\n",
    "    return (group['Quantity'] * group['UnitPrice']).sum()\n",
    "#Ordenar los paises por total de ventas\n",
    "totalVenta = (df.groupby('Country').apply(totalVenta)).sort_values(ascending=False)"
   ]
  },
  {
   "cell_type": "markdown",
   "metadata": {},
   "source": [
    "Filtrado de Datos"
   ]
  },
  {
   "cell_type": "code",
   "execution_count": null,
   "metadata": {},
   "outputs": [],
   "source": [
    "#Filtrar solo las ventas de UK y con cantidad mayor a 10\n",
    "uksales = df[(df['Country'] == 'United Kingdom') & (df['Quantity'] > 10)]\n",
    "#filtrar las ventas del 2011 y diciembre\n",
    "datayear = df[(df['InvoiceDate'].dt.year == 2011) & df['InvoiceDate'].dt.month == 12]"
   ]
  },
  {
   "cell_type": "markdown",
   "metadata": {},
   "source": [
    "Pivot Table: Resumir y organizar datos en una tabla dinámica para análisis.\n",
    "Reshape: Transformar la estructura de los datos para facilitar su análisis."
   ]
  },
  {
   "cell_type": "code",
   "execution_count": null,
   "metadata": {},
   "outputs": [],
   "source": [
    "#Annalsizar pais por stockcode\n",
    "pivot_table = pd.pivot_table(df,values='Quantity',index='Country',columns='StockCode',aggfunc='sum')\n",
    "#apilar la tabla\n",
    "reshape = pivot_table.stack().reset_index()"
   ]
  },
  {
   "cell_type": "markdown",
   "metadata": {},
   "source": [
    "Union de Dataframes, Concatenacion Data"
   ]
  },
  {
   "cell_type": "code",
   "execution_count": null,
   "metadata": {},
   "outputs": [],
   "source": [
    "#Generar dos Dataframe de ejemplo con llave y valor\n",
    "data = pd.DataFrame({\n",
    "    'llave': ['A', 'B', 'C'],\n",
    "    'valor': [1, 2, 3]\n",
    "})\n",
    "data2 = pd.DataFrame({\n",
    "    'llave': ['A', 'B', 'D'],\n",
    "    'valor': [4, 5, 6]\n",
    "})\n",
    "#Realizar un merge de los dos dataframes \n",
    "union = pd.merge(pd.DataFrame(data),pd.DataFrame(data2),on='llave',how='inner')\n",
    "outerJoin = pd.merge(pd.DataFrame(data),pd.DataFrame(data2),on='llave',how='outer')\n",
    "leftJoin = pd.merge(pd.DataFrame(data),pd.DataFrame(data2),on='llave',how='left')\n",
    "rightJoin = pd.merge(pd.DataFrame(data),pd.DataFrame(data2),on='llave',how='right')\n",
    "#realizar concatenacion de los dataframes si es orizontal se debe especificar axis=1 sin tener en cuenta los indices \n",
    "concat = pd.concat([pd.DataFrame(data),pd.DataFrame(data2)])\n",
    "concathorizontal = pd.concat([pd.DataFrame(data),pd.DataFrame(data2)],axis=1)\n",
    "#realizar concatenacion teniendo en cuenta los indices\n",
    "data = pd.DataFrame({\n",
    "    'llave1': ['A', 'B', 'C'],\n",
    "    'valor2': [1, 2, 3]\n",
    "},index=[0,1,2])\n",
    "data2 = pd.DataFrame({\n",
    "    'llave': ['A', 'B', 'D'],\n",
    "    'valor': [4, 5, 6]\n",
    "},index=[0,1,2])\n",
    "concat = data.join(data2,how='inner')\n",
    "print(concat)\n",
    "\n"
   ]
  },
  {
   "cell_type": "markdown",
   "metadata": {},
   "source": [
    "**GRAFICACION DE DATA MEDIANTE MATPLOTLIB**"
   ]
  },
  {
   "cell_type": "markdown",
   "metadata": {},
   "source": [
    "Grafico de linea : Muestra tendencias y cambios en los datos a lo largo del tiempo"
   ]
  },
  {
   "cell_type": "code",
   "execution_count": null,
   "metadata": {},
   "outputs": [
    {
     "data": {
      "text/plain": [
       "<function matplotlib.pyplot.show(close=None, block=None)>"
      ]
     },
     "execution_count": 20,
     "metadata": {},
     "output_type": "execute_result"
    },
    {
     "data": {
      "image/png": "[encoded data removed]",
      "text/plain": [
       "<Figure size 800x600 with 1 Axes>"
      ]
     },
     "metadata": {},
     "output_type": "display_data"
    }
   ],
   "source": [
    "#Generar array ejemplo\n",
    "month = np.array(['ENE','FEB','MAR','ABR','MAY','JUN','JUL','AGO','SEP','OCT','NOV','DIC'])\n",
    "sales = np.array([10,20,30,40,50,60,70,60,90,100,110,90])\n",
    "\n",
    "#Configurar el tamaño de la figura\n",
    "plt.figure(figsize=(8,6))\n",
    "\n",
    "plt.plot(month,sales,marker='o',color='blue',linestyle='--' ,linewidth= 2,label='Ventas')\n",
    "#Modificaciones visuales\n",
    "plt.title('Ventas por mes')\n",
    "plt.xlabel('Mes')\n",
    "plt.ylabel('Ventas')\n",
    "\n",
    "plt.show"
   ]
  },
  {
   "cell_type": "markdown",
   "metadata": {},
   "source": [
    "Gráfico de dispersión: Muestra la relación entre dos variables, permite encontrar patrones, agrupaciones o puntos atípicos en los datos."
   ]
  },
  {
   "cell_type": "code",
   "execution_count": null,
   "metadata": {},
   "outputs": [
    {
     "data": {
      "text/plain": [
       "<function matplotlib.pyplot.show(close=None, block=None)>"
      ]
     },
     "execution_count": 9,
     "metadata": {},
     "output_type": "execute_result"
    },
    {
     "data": {
      "image/png": "[encoded data removed]",
      "text/plain": [
       "<Figure size 640x480 with 1 Axes>"
      ]
     },
     "metadata": {},
     "output_type": "display_data"
    }
   ],
   "source": [
    "plt.Figure(figsize=(8,6))\n",
    "\n",
    "#Generar array de ejemplo\n",
    "hours = [1,2,3,4,5,6,7,8,9,10]\n",
    "exam = [55,60,65,70,75,80,85,90,95,100]\n",
    "\n",
    "#grafico de dispersion\n",
    "plt.scatter(hours,exam ,color = 'green')\n",
    "\n",
    "#modificaciones visuales\n",
    "plt.title('Horas estudiadas vs Nota')\n",
    "plt.xlabel('horas')\n",
    "plt.ylabel('notas')\n",
    "\n",
    "plt.show"
   ]
  },
  {
   "cell_type": "code",
   "execution_count": 18,
   "metadata": {},
   "outputs": [
    {
     "data": {
      "text/plain": [
       "<function matplotlib.pyplot.show(close=None, block=None)>"
      ]
     },
     "execution_count": 18,
     "metadata": {},
     "output_type": "execute_result"
    },
    {
     "data": {
      "image/png": "[encoded data removed]",
      "text/plain": [
       "<Figure size 640x480 with 1 Axes>"
      ]
     },
     "metadata": {},
     "output_type": "display_data"
    }
   ],
   "source": [
    "exam_studen1 = [55,60,65,70,75,80,85,90,95,100]\n",
    "exam_studen2 = [45,60,53,70,25,76,83,60,85,30]\n",
    "\n",
    "plt.scatter(hours,exam_studen1,exam_studen1,marker='o', color = 'green' ,linestyle='-',label='Estudiante 1')\n",
    "plt.scatter(hours,exam_studen2,exam_studen1,marker='s', color = 'red' ,linestyle='--',label='Estudiante 2')\n",
    "\n",
    "plt.title('Horas estudiadas vs Nota')\n",
    "plt.xlabel('horas')\n",
    "plt.ylabel('notas')\n",
    "\n",
    "plt.show"
   ]
  },
  {
   "cell_type": "markdown",
   "metadata": {},
   "source": [
    "Grafico de barras"
   ]
  },
  {
   "cell_type": "code",
   "execution_count": 23,
   "metadata": {},
   "outputs": [
    {
     "data": {
      "image/png": "[encoded data removed]",
      "text/plain": [
       "<Figure size 640x480 with 1 Axes>"
      ]
     },
     "metadata": {},
     "output_type": "display_data"
    }
   ],
   "source": [
    "plt.Figure(figsize=(8,6))\n",
    "\n",
    "#Generar array de ejemplo\n",
    "categoria = ['A','B','C','D']\n",
    "sales= [100,200,300,400]\n",
    "\n",
    "#grafico de barras\n",
    "plt.bar(categoria,sales,color='blue',label='Ventas')\n",
    "\n",
    "plt.annotate('Mayor venta',xy=('D',400),xytext=('D',500),arrowprops=dict(facecolor='black',shrink=0.05))\n",
    "\n",
    "plt.title('Ventas por categoria')\n",
    "plt.legend()\n",
    "plt.show()"
   ]
  },
  {
   "cell_type": "markdown",
   "metadata": {},
   "source": [
    "Histograma: Permite visualizar la dispersion y distribucion de los datos"
   ]
  },
  {
   "cell_type": "code",
   "execution_count": null,
   "metadata": {},
   "outputs": [],
   "source": [
    "#Altura de 200 personas\n",
    "data = np.random.normal(170,10,200)\n",
    "#Histograma (data,intervalos,color,borde,alpha)\n",
    "plt.hist(data,bins=10,color='blue',edgecolor='black',alpha=0.7)\n",
    "plt.title('Distribucion de altura')\n",
    "plt.xlabel('Altura')\n",
    "plt.ylabel('Frecuencia')\n",
    "plt.show()"
   ]
  },
  {
   "cell_type": "markdown",
   "metadata": {},
   "source": [
    "Boxplot: resumen la distrubcion de datos a travez de sus cuartiles"
   ]
  },
  {
   "cell_type": "code",
   "execution_count": null,
   "metadata": {},
   "outputs": [],
   "source": [
    "#establecer la semilla para que los numeros generados sean los mismos\n",
    "np.random.seed(0)\n",
    "ages = [np.random.normal(30,10,100),np.random.normal(40,20,100),np.random.normal(50,30,100)]\n",
    "print(ages)\n",
    "#data,colores en las cajas,notch=True para mostrar la mediana,labels para mostrar los nombres de los grupos,vert=False para mostrar horizontal\n",
    "plt.boxplot(ages,patch_artist=True,notch=True,labels=['Grupo 1','Grupo 2','Grupo 3'],vert=False)\n"
   ]
  },
  {
   "cell_type": "markdown",
   "metadata": {},
   "source": [
    "Subplots_Layouts "
   ]
  },
  {
   "cell_type": "code",
   "execution_count": null,
   "metadata": {},
   "outputs": [],
   "source": [
    "\n",
    "\n",
    "import matplotlib.pyplot as plt\n",
    "import numpy as np\n",
    "import matplotlib.gridspec as gridspec\n",
    "\n",
    "x = np.linspace(0, 10, 100)\n",
    "y = np.sin(x)\n",
    "\n",
    "data = np.random.randn(100) \n",
    "\n",
    "gs = gridspec.GridSpec(2,2, height_ratios=[2,1],width_ratios=[1,1])\n",
    "fig = plt.figure(figsize =(10,8))\n",
    "# Primer subplot grande, ocupa toda la primera fila\n",
    "ax1 = fig.add_subplot(gs[0,:])\n",
    "ax1.plot(x,y, color = 'blue')\n",
    "ax1.set_title('Seno de X')\n",
    "ax1.set_xlabel('x')\n",
    "ax1.set_ylabel('sin(x)')\n",
    "\n",
    "# Segundo subplot, ocupa la esquina inferior izquierda\n",
    "ax2 = fig.add_subplot(gs[1,0])\n",
    "ax2.hist(data, bins = 20, color='purple', edgecolor='black')\n",
    "ax1.set_title('Histograma')\n",
    "ax1.set_xlabel('Valor')\n",
    "ax1.set_ylabel('Frecuencia')\n",
    "\n",
    "# Tercer subplot, ubicado en la esquian inferior derecha\n",
    "ax3 = fig.add_subplot(gs[1,1])\n",
    "ax3.scatter(x,y, color = 'red')\n",
    "ax1.set_title('Dispersión de Seno')\n",
    "ax1.set_xlabel('x')\n",
    "ax1.set_ylabel('Frecuencia')\n",
    "\n",
    "plt.tight_layout()\n",
    "\n",
    "plt.show()"
   ]
  }
 ],
 "metadata": {
  "kernelspec": {
   "display_name": "Python 3",
   "language": "python",
   "name": "python3"
  },
  "language_info": {
   "codemirror_mode": {
    "name": "ipython",
    "version": 3
   },
   "file_extension": ".py",
   "mimetype": "text/x-python",
   "name": "python",
   "nbconvert_exporter": "python",
   "pygments_lexer": "ipython3",
   "version": "3.11.9"
  }
 },
 "nbformat": 4,
 "nbformat_minor": 2
}
